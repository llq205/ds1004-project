{
 "cells": [
  {
   "cell_type": "code",
   "execution_count": 1,
   "metadata": {
    "collapsed": true
   },
   "outputs": [],
   "source": [
    "import pandas as pd"
   ]
  },
  {
   "cell_type": "code",
   "execution_count": 2,
   "metadata": {
    "collapsed": false
   },
   "outputs": [
    {
     "name": "stderr",
     "output_type": "stream",
     "text": [
      "/Users/twff/anaconda/lib/python3.5/site-packages/IPython/core/interactiveshell.py:2717: DtypeWarning: Columns (17) have mixed types. Specify dtype option on import or set low_memory=False.\n",
      "  interactivity=interactivity, compiler=compiler, result=result)\n"
     ]
    }
   ],
   "source": [
    "data = pd.read_csv('/Users/twff/Downloads/NYPD.csv')"
   ]
  },
  {
   "cell_type": "code",
   "execution_count": 5,
   "metadata": {
    "collapsed": false
   },
   "outputs": [],
   "source": [
    "data = data.rename(columns={'X_COORD_CD':'X_COORDINATE', 'Y_COORD_CD':'Y_COORDINATE'})"
   ]
  },
  {
   "cell_type": "code",
   "execution_count": 6,
   "metadata": {
    "collapsed": false
   },
   "outputs": [
    {
     "data": {
      "text/html": [
       "<div>\n",
       "<table border=\"1\" class=\"dataframe\">\n",
       "  <thead>\n",
       "    <tr style=\"text-align: right;\">\n",
       "      <th></th>\n",
       "      <th>CMPLNT_NUM</th>\n",
       "      <th>CMPLNT_FR_DT</th>\n",
       "      <th>CMPLNT_FR_TM</th>\n",
       "      <th>CMPLNT_TO_DT</th>\n",
       "      <th>CMPLNT_TO_TM</th>\n",
       "      <th>RPT_DT</th>\n",
       "      <th>KY_CD</th>\n",
       "      <th>OFNS_DESC</th>\n",
       "      <th>PD_CD</th>\n",
       "      <th>PD_DESC</th>\n",
       "      <th>...</th>\n",
       "      <th>ADDR_PCT_CD</th>\n",
       "      <th>LOC_OF_OCCUR_DESC</th>\n",
       "      <th>PREM_TYP_DESC</th>\n",
       "      <th>PARKS_NM</th>\n",
       "      <th>HADEVELOPT</th>\n",
       "      <th>X_COORDINATE</th>\n",
       "      <th>Y_COORDINATE</th>\n",
       "      <th>Latitude</th>\n",
       "      <th>Longitude</th>\n",
       "      <th>Lat_Lon</th>\n",
       "    </tr>\n",
       "  </thead>\n",
       "  <tbody>\n",
       "    <tr>\n",
       "      <th>0</th>\n",
       "      <td>101109527</td>\n",
       "      <td>12/31/2015</td>\n",
       "      <td>23:45:00</td>\n",
       "      <td>NaN</td>\n",
       "      <td>NaN</td>\n",
       "      <td>12/31/2015</td>\n",
       "      <td>113</td>\n",
       "      <td>FORGERY</td>\n",
       "      <td>729.0</td>\n",
       "      <td>FORGERY,ETC.,UNCLASSIFIED-FELO</td>\n",
       "      <td>...</td>\n",
       "      <td>44.0</td>\n",
       "      <td>INSIDE</td>\n",
       "      <td>BAR/NIGHT CLUB</td>\n",
       "      <td>NaN</td>\n",
       "      <td>NaN</td>\n",
       "      <td>1007314.0</td>\n",
       "      <td>241257.0</td>\n",
       "      <td>40.828848</td>\n",
       "      <td>-73.916661</td>\n",
       "      <td>(40.828848333, -73.916661142)</td>\n",
       "    </tr>\n",
       "    <tr>\n",
       "      <th>1</th>\n",
       "      <td>153401121</td>\n",
       "      <td>12/31/2015</td>\n",
       "      <td>23:36:00</td>\n",
       "      <td>NaN</td>\n",
       "      <td>NaN</td>\n",
       "      <td>12/31/2015</td>\n",
       "      <td>101</td>\n",
       "      <td>MURDER &amp; NON-NEGL. MANSLAUGHTER</td>\n",
       "      <td>NaN</td>\n",
       "      <td>NaN</td>\n",
       "      <td>...</td>\n",
       "      <td>103.0</td>\n",
       "      <td>OUTSIDE</td>\n",
       "      <td>NaN</td>\n",
       "      <td>NaN</td>\n",
       "      <td>NaN</td>\n",
       "      <td>1043991.0</td>\n",
       "      <td>193406.0</td>\n",
       "      <td>40.697338</td>\n",
       "      <td>-73.784557</td>\n",
       "      <td>(40.697338138, -73.784556739)</td>\n",
       "    </tr>\n",
       "    <tr>\n",
       "      <th>2</th>\n",
       "      <td>569369778</td>\n",
       "      <td>12/31/2015</td>\n",
       "      <td>23:30:00</td>\n",
       "      <td>NaN</td>\n",
       "      <td>NaN</td>\n",
       "      <td>12/31/2015</td>\n",
       "      <td>117</td>\n",
       "      <td>DANGEROUS DRUGS</td>\n",
       "      <td>503.0</td>\n",
       "      <td>CONTROLLED SUBSTANCE,INTENT TO</td>\n",
       "      <td>...</td>\n",
       "      <td>28.0</td>\n",
       "      <td>NaN</td>\n",
       "      <td>OTHER</td>\n",
       "      <td>NaN</td>\n",
       "      <td>NaN</td>\n",
       "      <td>999463.0</td>\n",
       "      <td>231690.0</td>\n",
       "      <td>40.802607</td>\n",
       "      <td>-73.945052</td>\n",
       "      <td>(40.802606608, -73.945051911)</td>\n",
       "    </tr>\n",
       "    <tr>\n",
       "      <th>3</th>\n",
       "      <td>968417082</td>\n",
       "      <td>12/31/2015</td>\n",
       "      <td>23:30:00</td>\n",
       "      <td>NaN</td>\n",
       "      <td>NaN</td>\n",
       "      <td>12/31/2015</td>\n",
       "      <td>344</td>\n",
       "      <td>ASSAULT 3 &amp; RELATED OFFENSES</td>\n",
       "      <td>101.0</td>\n",
       "      <td>ASSAULT 3</td>\n",
       "      <td>...</td>\n",
       "      <td>105.0</td>\n",
       "      <td>INSIDE</td>\n",
       "      <td>RESIDENCE-HOUSE</td>\n",
       "      <td>NaN</td>\n",
       "      <td>NaN</td>\n",
       "      <td>1060183.0</td>\n",
       "      <td>177862.0</td>\n",
       "      <td>40.654549</td>\n",
       "      <td>-73.726339</td>\n",
       "      <td>(40.654549444, -73.726338791)</td>\n",
       "    </tr>\n",
       "    <tr>\n",
       "      <th>4</th>\n",
       "      <td>641637920</td>\n",
       "      <td>12/31/2015</td>\n",
       "      <td>23:25:00</td>\n",
       "      <td>12/31/2015</td>\n",
       "      <td>23:30:00</td>\n",
       "      <td>12/31/2015</td>\n",
       "      <td>344</td>\n",
       "      <td>ASSAULT 3 &amp; RELATED OFFENSES</td>\n",
       "      <td>101.0</td>\n",
       "      <td>ASSAULT 3</td>\n",
       "      <td>...</td>\n",
       "      <td>13.0</td>\n",
       "      <td>FRONT OF</td>\n",
       "      <td>OTHER</td>\n",
       "      <td>NaN</td>\n",
       "      <td>NaN</td>\n",
       "      <td>987606.0</td>\n",
       "      <td>208148.0</td>\n",
       "      <td>40.738002</td>\n",
       "      <td>-73.987891</td>\n",
       "      <td>(40.7380024, -73.98789129)</td>\n",
       "    </tr>\n",
       "  </tbody>\n",
       "</table>\n",
       "<p>5 rows × 24 columns</p>\n",
       "</div>"
      ],
      "text/plain": [
       "   CMPLNT_NUM CMPLNT_FR_DT CMPLNT_FR_TM CMPLNT_TO_DT CMPLNT_TO_TM      RPT_DT  \\\n",
       "0   101109527   12/31/2015     23:45:00          NaN          NaN  12/31/2015   \n",
       "1   153401121   12/31/2015     23:36:00          NaN          NaN  12/31/2015   \n",
       "2   569369778   12/31/2015     23:30:00          NaN          NaN  12/31/2015   \n",
       "3   968417082   12/31/2015     23:30:00          NaN          NaN  12/31/2015   \n",
       "4   641637920   12/31/2015     23:25:00   12/31/2015     23:30:00  12/31/2015   \n",
       "\n",
       "   KY_CD                        OFNS_DESC  PD_CD  \\\n",
       "0    113                          FORGERY  729.0   \n",
       "1    101  MURDER & NON-NEGL. MANSLAUGHTER    NaN   \n",
       "2    117                  DANGEROUS DRUGS  503.0   \n",
       "3    344     ASSAULT 3 & RELATED OFFENSES  101.0   \n",
       "4    344     ASSAULT 3 & RELATED OFFENSES  101.0   \n",
       "\n",
       "                          PD_DESC              ...               ADDR_PCT_CD  \\\n",
       "0  FORGERY,ETC.,UNCLASSIFIED-FELO              ...                      44.0   \n",
       "1                             NaN              ...                     103.0   \n",
       "2  CONTROLLED SUBSTANCE,INTENT TO              ...                      28.0   \n",
       "3                       ASSAULT 3              ...                     105.0   \n",
       "4                       ASSAULT 3              ...                      13.0   \n",
       "\n",
       "  LOC_OF_OCCUR_DESC    PREM_TYP_DESC PARKS_NM  HADEVELOPT X_COORDINATE  \\\n",
       "0            INSIDE   BAR/NIGHT CLUB      NaN         NaN    1007314.0   \n",
       "1           OUTSIDE              NaN      NaN         NaN    1043991.0   \n",
       "2               NaN            OTHER      NaN         NaN     999463.0   \n",
       "3            INSIDE  RESIDENCE-HOUSE      NaN         NaN    1060183.0   \n",
       "4          FRONT OF            OTHER      NaN         NaN     987606.0   \n",
       "\n",
       "  Y_COORDINATE   Latitude  Longitude                        Lat_Lon  \n",
       "0     241257.0  40.828848 -73.916661  (40.828848333, -73.916661142)  \n",
       "1     193406.0  40.697338 -73.784557  (40.697338138, -73.784556739)  \n",
       "2     231690.0  40.802607 -73.945052  (40.802606608, -73.945051911)  \n",
       "3     177862.0  40.654549 -73.726339  (40.654549444, -73.726338791)  \n",
       "4     208148.0  40.738002 -73.987891     (40.7380024, -73.98789129)  \n",
       "\n",
       "[5 rows x 24 columns]"
      ]
     },
     "execution_count": 6,
     "metadata": {},
     "output_type": "execute_result"
    }
   ],
   "source": [
    "data.head()"
   ]
  },
  {
   "cell_type": "code",
   "execution_count": 8,
   "metadata": {
    "collapsed": false
   },
   "outputs": [],
   "source": [
    "data = data.dropna(subset=['X_COORDINATE','Y_COORDINATE'],how='any')"
   ]
  },
  {
   "cell_type": "code",
   "execution_count": 5,
   "metadata": {
    "collapsed": false
   },
   "outputs": [],
   "source": [
    "data['X_COORDINATE'] = data['X_COORDINATE'].astype(int)"
   ]
  },
  {
   "cell_type": "code",
   "execution_count": 6,
   "metadata": {
    "collapsed": false
   },
   "outputs": [],
   "source": [
    "data['Y_COORDINATE'] = data['Y_COORDINATE'].astype(int)"
   ]
  },
  {
   "cell_type": "code",
   "execution_count": 7,
   "metadata": {
    "collapsed": false,
    "scrolled": true
   },
   "outputs": [],
   "source": [
    "dfg = data['CMPLNT_NUM'].groupby([data['X_COORDINATE'],data['Y_COORDINATE']]).count()"
   ]
  },
  {
   "cell_type": "code",
   "execution_count": 8,
   "metadata": {
    "collapsed": false
   },
   "outputs": [
    {
     "data": {
      "text/plain": [
       "1.5333333333333334"
      ]
     },
     "execution_count": 8,
     "metadata": {},
     "output_type": "execute_result"
    }
   ],
   "source": [
    "sum(dfg)/len(dfg)"
   ]
  },
  {
   "cell_type": "code",
   "execution_count": 10,
   "metadata": {
    "collapsed": true
   },
   "outputs": [],
   "source": [
    "join = pd.read_csv('/Users/twff/Downloads/DSNY_Graffiti_Information.csv')"
   ]
  },
  {
   "cell_type": "code",
   "execution_count": 11,
   "metadata": {
    "collapsed": false
   },
   "outputs": [],
   "source": [
    "join = join.dropna(subset=['X_COORDINATE','Y_COORDINATE'],how='any')"
   ]
  },
  {
   "cell_type": "code",
   "execution_count": 84,
   "metadata": {
    "collapsed": true
   },
   "outputs": [],
   "source": [
    "join.to_csv('/Users/twff/Downloads/big data/project/ds1004-project/graffiti.csv')"
   ]
  },
  {
   "cell_type": "code",
   "execution_count": 79,
   "metadata": {
    "collapsed": false
   },
   "outputs": [
    {
     "data": {
      "text/html": [
       "<div>\n",
       "<table border=\"1\" class=\"dataframe\">\n",
       "  <thead>\n",
       "    <tr style=\"text-align: right;\">\n",
       "      <th></th>\n",
       "      <th>INCIDENT_ADDRESS</th>\n",
       "      <th>BOROUGH</th>\n",
       "      <th>COMMUNITY_BOARD</th>\n",
       "      <th>POLICE_PRECINCT</th>\n",
       "      <th>CITY_COUNCIL_DISTRICT</th>\n",
       "      <th>BBL</th>\n",
       "      <th>CREATED_DATE</th>\n",
       "      <th>STATUS</th>\n",
       "      <th>RESOLUTION_ACTION</th>\n",
       "      <th>CLOSED_DATE</th>\n",
       "      <th>X_COORDINATE</th>\n",
       "      <th>Y_COORDINATE</th>\n",
       "    </tr>\n",
       "  </thead>\n",
       "  <tbody>\n",
       "    <tr>\n",
       "      <th>5426</th>\n",
       "      <td>46 STREET &amp; QUEENS BOULEVARD</td>\n",
       "      <td>QUEENS</td>\n",
       "      <td>02 QUEENS</td>\n",
       "      <td>Precinct 108</td>\n",
       "      <td>26.0</td>\n",
       "      <td>NaN</td>\n",
       "      <td>12/12/2016</td>\n",
       "      <td>Closed</td>\n",
       "      <td>10-90X - Unfounded</td>\n",
       "      <td>12/13/2016</td>\n",
       "      <td>1006778.0</td>\n",
       "      <td>210039.0</td>\n",
       "    </tr>\n",
       "  </tbody>\n",
       "</table>\n",
       "</div>"
      ],
      "text/plain": [
       "                  INCIDENT_ADDRESS BOROUGH COMMUNITY_BOARD POLICE_PRECINCT  \\\n",
       "5426  46 STREET & QUEENS BOULEVARD  QUEENS       02 QUEENS    Precinct 108   \n",
       "\n",
       "      CITY_COUNCIL_DISTRICT  BBL CREATED_DATE  STATUS   RESOLUTION_ACTION  \\\n",
       "5426                   26.0  NaN   12/12/2016  Closed  10-90X - Unfounded   \n",
       "\n",
       "     CLOSED_DATE  X_COORDINATE  Y_COORDINATE  \n",
       "5426  12/13/2016     1006778.0      210039.0  "
      ]
     },
     "execution_count": 79,
     "metadata": {},
     "output_type": "execute_result"
    }
   ],
   "source": [
    "join.loc[join['X_COORDINATE'] == 1006778.0]"
   ]
  },
  {
   "cell_type": "code",
   "execution_count": 12,
   "metadata": {
    "collapsed": false
   },
   "outputs": [],
   "source": [
    "joined = pd.merge(data,join,how='inner',on = ['X_COORDINATE','Y_COORDINATE'])"
   ]
  },
  {
   "cell_type": "code",
   "execution_count": 13,
   "metadata": {
    "collapsed": false
   },
   "outputs": [
    {
     "data": {
      "text/plain": [
       "(523, 34)"
      ]
     },
     "execution_count": 13,
     "metadata": {},
     "output_type": "execute_result"
    }
   ],
   "source": [
    "joined.shape"
   ]
  },
  {
   "cell_type": "code",
   "execution_count": 14,
   "metadata": {
    "collapsed": false
   },
   "outputs": [
    {
     "data": {
      "text/html": [
       "<div>\n",
       "<table border=\"1\" class=\"dataframe\">\n",
       "  <thead>\n",
       "    <tr style=\"text-align: right;\">\n",
       "      <th></th>\n",
       "      <th>CMPLNT_NUM</th>\n",
       "      <th>CMPLNT_FR_DT</th>\n",
       "      <th>CMPLNT_FR_TM</th>\n",
       "      <th>CMPLNT_TO_DT</th>\n",
       "      <th>CMPLNT_TO_TM</th>\n",
       "      <th>RPT_DT</th>\n",
       "      <th>KY_CD</th>\n",
       "      <th>OFNS_DESC</th>\n",
       "      <th>PD_CD</th>\n",
       "      <th>PD_DESC</th>\n",
       "      <th>...</th>\n",
       "      <th>INCIDENT_ADDRESS</th>\n",
       "      <th>BOROUGH</th>\n",
       "      <th>COMMUNITY_BOARD</th>\n",
       "      <th>POLICE_PRECINCT</th>\n",
       "      <th>CITY_COUNCIL_DISTRICT</th>\n",
       "      <th>BBL</th>\n",
       "      <th>CREATED_DATE</th>\n",
       "      <th>STATUS</th>\n",
       "      <th>RESOLUTION_ACTION</th>\n",
       "      <th>CLOSED_DATE</th>\n",
       "    </tr>\n",
       "  </thead>\n",
       "  <tbody>\n",
       "    <tr>\n",
       "      <th>0</th>\n",
       "      <td>544335825</td>\n",
       "      <td>12/25/2015</td>\n",
       "      <td>04:40:00</td>\n",
       "      <td>12/25/2015</td>\n",
       "      <td>04:48:00</td>\n",
       "      <td>12/25/2015</td>\n",
       "      <td>344</td>\n",
       "      <td>ASSAULT 3 &amp; RELATED OFFENSES</td>\n",
       "      <td>101.0</td>\n",
       "      <td>ASSAULT 3</td>\n",
       "      <td>...</td>\n",
       "      <td>46 STREET &amp; QUEENS BOULEVARD</td>\n",
       "      <td>QUEENS</td>\n",
       "      <td>02 QUEENS</td>\n",
       "      <td>Precinct 108</td>\n",
       "      <td>26.0</td>\n",
       "      <td>NaN</td>\n",
       "      <td>12/12/2016</td>\n",
       "      <td>Closed</td>\n",
       "      <td>10-90X - Unfounded</td>\n",
       "      <td>12/13/2016</td>\n",
       "    </tr>\n",
       "    <tr>\n",
       "      <th>1</th>\n",
       "      <td>992035083</td>\n",
       "      <td>12/19/2015</td>\n",
       "      <td>14:50:00</td>\n",
       "      <td>12/19/2015</td>\n",
       "      <td>14:55:00</td>\n",
       "      <td>12/19/2015</td>\n",
       "      <td>105</td>\n",
       "      <td>ROBBERY</td>\n",
       "      <td>397.0</td>\n",
       "      <td>ROBBERY,OPEN AREA UNCLASSIFIED</td>\n",
       "      <td>...</td>\n",
       "      <td>46 STREET &amp; QUEENS BOULEVARD</td>\n",
       "      <td>QUEENS</td>\n",
       "      <td>02 QUEENS</td>\n",
       "      <td>Precinct 108</td>\n",
       "      <td>26.0</td>\n",
       "      <td>NaN</td>\n",
       "      <td>12/12/2016</td>\n",
       "      <td>Closed</td>\n",
       "      <td>10-90X - Unfounded</td>\n",
       "      <td>12/13/2016</td>\n",
       "    </tr>\n",
       "    <tr>\n",
       "      <th>2</th>\n",
       "      <td>624995070</td>\n",
       "      <td>10/23/2015</td>\n",
       "      <td>04:00:00</td>\n",
       "      <td>10/23/2015</td>\n",
       "      <td>04:30:00</td>\n",
       "      <td>11/03/2015</td>\n",
       "      <td>109</td>\n",
       "      <td>GRAND LARCENY</td>\n",
       "      <td>408.0</td>\n",
       "      <td>LARCENY,GRAND FROM PERSON,LUSH WORKER(SLEEPING...</td>\n",
       "      <td>...</td>\n",
       "      <td>46 STREET &amp; QUEENS BOULEVARD</td>\n",
       "      <td>QUEENS</td>\n",
       "      <td>02 QUEENS</td>\n",
       "      <td>Precinct 108</td>\n",
       "      <td>26.0</td>\n",
       "      <td>NaN</td>\n",
       "      <td>12/12/2016</td>\n",
       "      <td>Closed</td>\n",
       "      <td>10-90X - Unfounded</td>\n",
       "      <td>12/13/2016</td>\n",
       "    </tr>\n",
       "    <tr>\n",
       "      <th>3</th>\n",
       "      <td>140699923</td>\n",
       "      <td>10/20/2015</td>\n",
       "      <td>14:00:00</td>\n",
       "      <td>NaN</td>\n",
       "      <td>NaN</td>\n",
       "      <td>10/23/2015</td>\n",
       "      <td>578</td>\n",
       "      <td>HARRASSMENT 2</td>\n",
       "      <td>638.0</td>\n",
       "      <td>HARASSMENT,SUBD 3,4,5</td>\n",
       "      <td>...</td>\n",
       "      <td>46 STREET &amp; QUEENS BOULEVARD</td>\n",
       "      <td>QUEENS</td>\n",
       "      <td>02 QUEENS</td>\n",
       "      <td>Precinct 108</td>\n",
       "      <td>26.0</td>\n",
       "      <td>NaN</td>\n",
       "      <td>12/12/2016</td>\n",
       "      <td>Closed</td>\n",
       "      <td>10-90X - Unfounded</td>\n",
       "      <td>12/13/2016</td>\n",
       "    </tr>\n",
       "    <tr>\n",
       "      <th>4</th>\n",
       "      <td>865966030</td>\n",
       "      <td>10/16/2015</td>\n",
       "      <td>18:25:00</td>\n",
       "      <td>10/16/2015</td>\n",
       "      <td>18:27:00</td>\n",
       "      <td>10/16/2015</td>\n",
       "      <td>351</td>\n",
       "      <td>CRIMINAL MISCHIEF &amp; RELATED OF</td>\n",
       "      <td>258.0</td>\n",
       "      <td>CRIMINAL MISCHIEF 4TH, GRAFFIT</td>\n",
       "      <td>...</td>\n",
       "      <td>46 STREET &amp; QUEENS BOULEVARD</td>\n",
       "      <td>QUEENS</td>\n",
       "      <td>02 QUEENS</td>\n",
       "      <td>Precinct 108</td>\n",
       "      <td>26.0</td>\n",
       "      <td>NaN</td>\n",
       "      <td>12/12/2016</td>\n",
       "      <td>Closed</td>\n",
       "      <td>10-90X - Unfounded</td>\n",
       "      <td>12/13/2016</td>\n",
       "    </tr>\n",
       "    <tr>\n",
       "      <th>5</th>\n",
       "      <td>460734741</td>\n",
       "      <td>09/26/2015</td>\n",
       "      <td>16:00:00</td>\n",
       "      <td>09/26/2015</td>\n",
       "      <td>16:05:00</td>\n",
       "      <td>09/26/2015</td>\n",
       "      <td>578</td>\n",
       "      <td>HARRASSMENT 2</td>\n",
       "      <td>638.0</td>\n",
       "      <td>HARASSMENT,SUBD 3,4,5</td>\n",
       "      <td>...</td>\n",
       "      <td>46 STREET &amp; QUEENS BOULEVARD</td>\n",
       "      <td>QUEENS</td>\n",
       "      <td>02 QUEENS</td>\n",
       "      <td>Precinct 108</td>\n",
       "      <td>26.0</td>\n",
       "      <td>NaN</td>\n",
       "      <td>12/12/2016</td>\n",
       "      <td>Closed</td>\n",
       "      <td>10-90X - Unfounded</td>\n",
       "      <td>12/13/2016</td>\n",
       "    </tr>\n",
       "    <tr>\n",
       "      <th>6</th>\n",
       "      <td>971722038</td>\n",
       "      <td>08/31/2015</td>\n",
       "      <td>21:15:00</td>\n",
       "      <td>08/31/2015</td>\n",
       "      <td>21:20:00</td>\n",
       "      <td>08/31/2015</td>\n",
       "      <td>348</td>\n",
       "      <td>VEHICLE AND TRAFFIC LAWS</td>\n",
       "      <td>916.0</td>\n",
       "      <td>LEAVING SCENE-ACCIDENT-PERSONA</td>\n",
       "      <td>...</td>\n",
       "      <td>46 STREET &amp; QUEENS BOULEVARD</td>\n",
       "      <td>QUEENS</td>\n",
       "      <td>02 QUEENS</td>\n",
       "      <td>Precinct 108</td>\n",
       "      <td>26.0</td>\n",
       "      <td>NaN</td>\n",
       "      <td>12/12/2016</td>\n",
       "      <td>Closed</td>\n",
       "      <td>10-90X - Unfounded</td>\n",
       "      <td>12/13/2016</td>\n",
       "    </tr>\n",
       "    <tr>\n",
       "      <th>7</th>\n",
       "      <td>178124084</td>\n",
       "      <td>02/09/2015</td>\n",
       "      <td>22:30:00</td>\n",
       "      <td>02/10/2015</td>\n",
       "      <td>00:01:00</td>\n",
       "      <td>06/30/2015</td>\n",
       "      <td>341</td>\n",
       "      <td>PETIT LARCENY</td>\n",
       "      <td>339.0</td>\n",
       "      <td>LARCENY,PETIT FROM OPEN AREAS,</td>\n",
       "      <td>...</td>\n",
       "      <td>46 STREET &amp; QUEENS BOULEVARD</td>\n",
       "      <td>QUEENS</td>\n",
       "      <td>02 QUEENS</td>\n",
       "      <td>Precinct 108</td>\n",
       "      <td>26.0</td>\n",
       "      <td>NaN</td>\n",
       "      <td>12/12/2016</td>\n",
       "      <td>Closed</td>\n",
       "      <td>10-90X - Unfounded</td>\n",
       "      <td>12/13/2016</td>\n",
       "    </tr>\n",
       "    <tr>\n",
       "      <th>8</th>\n",
       "      <td>438877606</td>\n",
       "      <td>06/03/2015</td>\n",
       "      <td>03:50:00</td>\n",
       "      <td>06/03/2015</td>\n",
       "      <td>03:55:00</td>\n",
       "      <td>06/03/2015</td>\n",
       "      <td>110</td>\n",
       "      <td>GRAND LARCENY OF MOTOR VEHICLE</td>\n",
       "      <td>441.0</td>\n",
       "      <td>LARCENY,GRAND OF AUTO</td>\n",
       "      <td>...</td>\n",
       "      <td>46 STREET &amp; QUEENS BOULEVARD</td>\n",
       "      <td>QUEENS</td>\n",
       "      <td>02 QUEENS</td>\n",
       "      <td>Precinct 108</td>\n",
       "      <td>26.0</td>\n",
       "      <td>NaN</td>\n",
       "      <td>12/12/2016</td>\n",
       "      <td>Closed</td>\n",
       "      <td>10-90X - Unfounded</td>\n",
       "      <td>12/13/2016</td>\n",
       "    </tr>\n",
       "    <tr>\n",
       "      <th>9</th>\n",
       "      <td>193922700</td>\n",
       "      <td>04/08/2015</td>\n",
       "      <td>14:05:00</td>\n",
       "      <td>04/08/2015</td>\n",
       "      <td>14:10:00</td>\n",
       "      <td>04/08/2015</td>\n",
       "      <td>578</td>\n",
       "      <td>HARRASSMENT 2</td>\n",
       "      <td>637.0</td>\n",
       "      <td>HARASSMENT,SUBD 1,CIVILIAN</td>\n",
       "      <td>...</td>\n",
       "      <td>46 STREET &amp; QUEENS BOULEVARD</td>\n",
       "      <td>QUEENS</td>\n",
       "      <td>02 QUEENS</td>\n",
       "      <td>Precinct 108</td>\n",
       "      <td>26.0</td>\n",
       "      <td>NaN</td>\n",
       "      <td>12/12/2016</td>\n",
       "      <td>Closed</td>\n",
       "      <td>10-90X - Unfounded</td>\n",
       "      <td>12/13/2016</td>\n",
       "    </tr>\n",
       "  </tbody>\n",
       "</table>\n",
       "<p>10 rows × 34 columns</p>\n",
       "</div>"
      ],
      "text/plain": [
       "   CMPLNT_NUM CMPLNT_FR_DT CMPLNT_FR_TM CMPLNT_TO_DT CMPLNT_TO_TM      RPT_DT  \\\n",
       "0   544335825   12/25/2015     04:40:00   12/25/2015     04:48:00  12/25/2015   \n",
       "1   992035083   12/19/2015     14:50:00   12/19/2015     14:55:00  12/19/2015   \n",
       "2   624995070   10/23/2015     04:00:00   10/23/2015     04:30:00  11/03/2015   \n",
       "3   140699923   10/20/2015     14:00:00          NaN          NaN  10/23/2015   \n",
       "4   865966030   10/16/2015     18:25:00   10/16/2015     18:27:00  10/16/2015   \n",
       "5   460734741   09/26/2015     16:00:00   09/26/2015     16:05:00  09/26/2015   \n",
       "6   971722038   08/31/2015     21:15:00   08/31/2015     21:20:00  08/31/2015   \n",
       "7   178124084   02/09/2015     22:30:00   02/10/2015     00:01:00  06/30/2015   \n",
       "8   438877606   06/03/2015     03:50:00   06/03/2015     03:55:00  06/03/2015   \n",
       "9   193922700   04/08/2015     14:05:00   04/08/2015     14:10:00  04/08/2015   \n",
       "\n",
       "   KY_CD                       OFNS_DESC  PD_CD  \\\n",
       "0    344    ASSAULT 3 & RELATED OFFENSES  101.0   \n",
       "1    105                         ROBBERY  397.0   \n",
       "2    109                   GRAND LARCENY  408.0   \n",
       "3    578                   HARRASSMENT 2  638.0   \n",
       "4    351  CRIMINAL MISCHIEF & RELATED OF  258.0   \n",
       "5    578                   HARRASSMENT 2  638.0   \n",
       "6    348        VEHICLE AND TRAFFIC LAWS  916.0   \n",
       "7    341                   PETIT LARCENY  339.0   \n",
       "8    110  GRAND LARCENY OF MOTOR VEHICLE  441.0   \n",
       "9    578                   HARRASSMENT 2  637.0   \n",
       "\n",
       "                                             PD_DESC     ...       \\\n",
       "0                                          ASSAULT 3     ...        \n",
       "1                     ROBBERY,OPEN AREA UNCLASSIFIED     ...        \n",
       "2  LARCENY,GRAND FROM PERSON,LUSH WORKER(SLEEPING...     ...        \n",
       "3                              HARASSMENT,SUBD 3,4,5     ...        \n",
       "4                     CRIMINAL MISCHIEF 4TH, GRAFFIT     ...        \n",
       "5                              HARASSMENT,SUBD 3,4,5     ...        \n",
       "6                     LEAVING SCENE-ACCIDENT-PERSONA     ...        \n",
       "7                     LARCENY,PETIT FROM OPEN AREAS,     ...        \n",
       "8                              LARCENY,GRAND OF AUTO     ...        \n",
       "9                         HARASSMENT,SUBD 1,CIVILIAN     ...        \n",
       "\n",
       "               INCIDENT_ADDRESS BOROUGH COMMUNITY_BOARD POLICE_PRECINCT  \\\n",
       "0  46 STREET & QUEENS BOULEVARD  QUEENS       02 QUEENS    Precinct 108   \n",
       "1  46 STREET & QUEENS BOULEVARD  QUEENS       02 QUEENS    Precinct 108   \n",
       "2  46 STREET & QUEENS BOULEVARD  QUEENS       02 QUEENS    Precinct 108   \n",
       "3  46 STREET & QUEENS BOULEVARD  QUEENS       02 QUEENS    Precinct 108   \n",
       "4  46 STREET & QUEENS BOULEVARD  QUEENS       02 QUEENS    Precinct 108   \n",
       "5  46 STREET & QUEENS BOULEVARD  QUEENS       02 QUEENS    Precinct 108   \n",
       "6  46 STREET & QUEENS BOULEVARD  QUEENS       02 QUEENS    Precinct 108   \n",
       "7  46 STREET & QUEENS BOULEVARD  QUEENS       02 QUEENS    Precinct 108   \n",
       "8  46 STREET & QUEENS BOULEVARD  QUEENS       02 QUEENS    Precinct 108   \n",
       "9  46 STREET & QUEENS BOULEVARD  QUEENS       02 QUEENS    Precinct 108   \n",
       "\n",
       "   CITY_COUNCIL_DISTRICT BBL CREATED_DATE  STATUS   RESOLUTION_ACTION  \\\n",
       "0                   26.0 NaN   12/12/2016  Closed  10-90X - Unfounded   \n",
       "1                   26.0 NaN   12/12/2016  Closed  10-90X - Unfounded   \n",
       "2                   26.0 NaN   12/12/2016  Closed  10-90X - Unfounded   \n",
       "3                   26.0 NaN   12/12/2016  Closed  10-90X - Unfounded   \n",
       "4                   26.0 NaN   12/12/2016  Closed  10-90X - Unfounded   \n",
       "5                   26.0 NaN   12/12/2016  Closed  10-90X - Unfounded   \n",
       "6                   26.0 NaN   12/12/2016  Closed  10-90X - Unfounded   \n",
       "7                   26.0 NaN   12/12/2016  Closed  10-90X - Unfounded   \n",
       "8                   26.0 NaN   12/12/2016  Closed  10-90X - Unfounded   \n",
       "9                   26.0 NaN   12/12/2016  Closed  10-90X - Unfounded   \n",
       "\n",
       "   CLOSED_DATE  \n",
       "0   12/13/2016  \n",
       "1   12/13/2016  \n",
       "2   12/13/2016  \n",
       "3   12/13/2016  \n",
       "4   12/13/2016  \n",
       "5   12/13/2016  \n",
       "6   12/13/2016  \n",
       "7   12/13/2016  \n",
       "8   12/13/2016  \n",
       "9   12/13/2016  \n",
       "\n",
       "[10 rows x 34 columns]"
      ]
     },
     "execution_count": 14,
     "metadata": {},
     "output_type": "execute_result"
    }
   ],
   "source": [
    "joined.head(10)\n",
    "#joined['X_COORDINATE'][:10]"
   ]
  },
  {
   "cell_type": "code",
   "execution_count": 19,
   "metadata": {
    "collapsed": false
   },
   "outputs": [],
   "source": [
    "ddg = joined['CMPLNT_NUM'].groupby([joined['X_COORDINATE'],joined['Y_COORDINATE']]).count()"
   ]
  },
  {
   "cell_type": "code",
   "execution_count": 20,
   "metadata": {
    "collapsed": false
   },
   "outputs": [
    {
     "data": {
      "text/plain": [
       "MultiIndex(levels=[[987351.0, 990937.0, 995795.0, 996686.0, 996957.0, 997348.0, 997741.0, 998284.0, 999215.0, 1000556.0, 1006778.0, 1007529.0, 1007685.0, 1008913.0, 1009891.0, 1010401.0, 1012793.0, 1019158.0, 1037129.0, 1042835.0], [152602.0, 176387.0, 177700.0, 183798.0, 186939.0, 194388.0, 195041.0, 199678.0, 201128.0, 210039.0, 212698.0, 217850.0, 218469.0, 222590.0, 223194.0, 225841.0, 235720.0, 247976.0, 255617.0, 255874.0]],\n",
       "           labels=[[0, 1, 2, 3, 4, 5, 6, 7, 8, 9, 10, 11, 12, 13, 14, 15, 16, 17, 18, 19], [8, 15, 11, 14, 12, 7, 16, 1, 2, 4, 9, 19, 6, 3, 17, 13, 18, 10, 0, 5]],\n",
       "           names=['X_COORDINATE', 'Y_COORDINATE'])"
      ]
     },
     "execution_count": 20,
     "metadata": {},
     "output_type": "execute_result"
    }
   ],
   "source": [
    "ddg.index"
   ]
  },
  {
   "cell_type": "code",
   "execution_count": 78,
   "metadata": {
    "collapsed": false
   },
   "outputs": [
    {
     "data": {
      "text/plain": [
       "X_COORDINATE  Y_COORDINATE\n",
       "987351.0      201128.0          1\n",
       "990937.0      225841.0          1\n",
       "995795.0      217850.0         41\n",
       "996686.0      223194.0          1\n",
       "996957.0      218469.0          1\n",
       "997348.0      199678.0         50\n",
       "997741.0      235720.0          1\n",
       "998284.0      176387.0          1\n",
       "999215.0      177700.0         14\n",
       "1000556.0     186939.0          1\n",
       "1006778.0     210039.0        273\n",
       "1007529.0     255874.0          1\n",
       "1007685.0     195041.0          1\n",
       "1008913.0     183798.0          1\n",
       "1009891.0     247976.0          1\n",
       "1010401.0     222590.0          7\n",
       "1012793.0     255617.0          2\n",
       "1019158.0     212698.0         24\n",
       "1037129.0     152602.0         39\n",
       "1042835.0     194388.0         62\n",
       "Name: CMPLNT_NUM, dtype: int64"
      ]
     },
     "execution_count": 78,
     "metadata": {},
     "output_type": "execute_result"
    }
   ],
   "source": [
    "ddg"
   ]
  },
  {
   "cell_type": "code",
   "execution_count": 71,
   "metadata": {
    "collapsed": false
   },
   "outputs": [],
   "source": [
    "dd = pd.DataFrame()\n",
    "dd['count'] = ddg "
   ]
  },
  {
   "cell_type": "code",
   "execution_count": 72,
   "metadata": {
    "collapsed": false
   },
   "outputs": [],
   "source": [
    "dd['Num'] = range(20)"
   ]
  },
  {
   "cell_type": "code",
   "execution_count": 80,
   "metadata": {
    "collapsed": false
   },
   "outputs": [
    {
     "data": {
      "text/plain": [
       "26.149999999999999"
      ]
     },
     "execution_count": 80,
     "metadata": {},
     "output_type": "execute_result"
    }
   ],
   "source": [
    "sum(ddg)/len(ddg)"
   ]
  },
  {
   "cell_type": "code",
   "execution_count": 74,
   "metadata": {
    "collapsed": true
   },
   "outputs": [],
   "source": [
    "import numpy as np\n",
    "import seaborn as sns\n",
    "import matplotlib.pyplot as plt\n",
    "%matplotlib inline"
   ]
  },
  {
   "cell_type": "code",
   "execution_count": 77,
   "metadata": {
    "collapsed": false
   },
   "outputs": [
    {
     "data": {
      "text/plain": [
       "<matplotlib.lines.Line2D at 0x121e77d30>"
      ]
     },
     "execution_count": 77,
     "metadata": {},
     "output_type": "execute_result"
    },
    {
     "data": {
      "image/png": "[encoded data removed]",
      "text/plain": [
       "<matplotlib.figure.Figure at 0x122c08f28>"
      ]
     },
     "metadata": {},
     "output_type": "display_data"
    }
   ],
   "source": [
    "sns.set_style(\"whitegrid\")\n",
    "# Plot\n",
    "\n",
    "sns.factorplot(x='Num',y='count',data=dd,color=\"#aa42f4\")\n",
    "sns.set_color_codes(\"pastel\")\n",
    "plt.axhline(y=45.33, xmin=0, xmax=1, hold=None,c=\"#4CB391\")\n",
    "plt.axhline(y=26.15, xmin=0, xmax=1, hold=None,c='#f4e242')"
   ]
  },
  {
   "cell_type": "markdown",
   "metadata": {},
   "source": [
    "45.33 = mean"
   ]
  },
  {
   "cell_type": "code",
   "execution_count": 81,
   "metadata": {
    "collapsed": false
   },
   "outputs": [
    {
     "data": {
      "text/plain": [
       "OFNS_DESC\n",
       "ASSAULT 3 & RELATED OFFENSES       57\n",
       "BURGLAR'S TOOLS                     2\n",
       "BURGLARY                            3\n",
       "CRIMINAL MISCHIEF & RELATED OF     49\n",
       "DANGEROUS DRUGS                    20\n",
       "DANGEROUS WEAPONS                   9\n",
       "FELONY ASSAULT                     16\n",
       "FORGERY                            20\n",
       "FRAUDS                              4\n",
       "FRAUDULENT ACCOSTING                1\n",
       "GRAND LARCENY                      69\n",
       "GRAND LARCENY OF MOTOR VEHICLE     13\n",
       "HARRASSMENT 2                      60\n",
       "INTOXICATED & IMPAIRED DRIVING     13\n",
       "KIDNAPPING & RELATED OFFENSES       1\n",
       "MISCELLANEOUS PENAL LAW            10\n",
       "MURDER & NON-NEGL. MANSLAUGHTER     1\n",
       "NYS LAWS-UNCLASSIFIED FELONY        2\n",
       "OFF. AGNST PUB ORD SENSBLTY &       4\n",
       "OFFENSES AGAINST PUBLIC ADMINI     13\n",
       "OFFENSES INVOLVING FRAUD            2\n",
       "OTHER OFFENSES RELATED TO THEF      3\n",
       "PETIT LARCENY                      95\n",
       "POSSESSION OF STOLEN PROPERTY       3\n",
       "ROBBERY                            39\n",
       "UNAUTHORIZED USE OF A VEHICLE       2\n",
       "VEHICLE AND TRAFFIC LAWS            9\n",
       "Name: CMPLNT_NUM, dtype: int64"
      ]
     },
     "execution_count": 81,
     "metadata": {},
     "output_type": "execute_result"
    }
   ],
   "source": [
    "joined['CMPLNT_NUM'].groupby(joined['OFNS_DESC']).count()"
   ]
  },
  {
   "cell_type": "code",
   "execution_count": 82,
   "metadata": {
    "collapsed": false
   },
   "outputs": [
    {
     "data": {
      "text/plain": [
       "(array([ 0,  1,  2,  3,  4,  5,  6,  7,  8,  9, 10, 11, 12, 13, 14, 15, 16,\n",
       "        17, 18, 19]), <a list of 20 Text xticklabel objects>)"
      ]
     },
     "execution_count": 82,
     "metadata": {},
     "output_type": "execute_result"
    },
    {
     "data": {
      "image/png": "[encoded data removed]",
      "text/plain": [
       "<matplotlib.figure.Figure at 0x1206a5668>"
      ]
     },
     "metadata": {},
     "output_type": "display_data"
    }
   ],
   "source": [
    "dfg = joined['CMPLNT_FR_DT'].groupby(joined['PD_DESC']).count()\n",
    "output = pd.DataFrame()\n",
    "output['PD_DESC'] = dfg.index\n",
    "output['COUNT'] = dfg.values\n",
    "output = output.sort_values(['COUNT'],ascending=False).head(20)\n",
    "#sns.set_color_codes(\"muted\")\n",
    "sns.barplot(x='PD_DESC',y = 'COUNT', data=output, palette=\"BuGn_r\")\n",
    "plt.xticks(rotation=90)"
   ]
  },
  {
   "cell_type": "code",
   "execution_count": null,
   "metadata": {
    "collapsed": true
   },
   "outputs": [],
   "source": []
  }
 ],
 "metadata": {
  "kernelspec": {
   "display_name": "Python [Root]",
   "language": "python",
   "name": "Python [Root]"
  },
  "language_info": {
   "codemirror_mode": {
    "name": "ipython",
    "version": 3
   },
   "file_extension": ".py",
   "mimetype": "text/x-python",
   "name": "python",
   "nbconvert_exporter": "python",
   "pygments_lexer": "ipython3",
   "version": "3.5.2"
  }
 },
 "nbformat": 4,
 "nbformat_minor": 0
}
